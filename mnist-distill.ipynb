{
 "cells": [
  {
   "cell_type": "code",
   "execution_count": 1,
   "metadata": {
    "execution": {
     "iopub.execute_input": "2025-07-21T17:14:58.022199Z",
     "iopub.status.busy": "2025-07-21T17:14:58.021971Z",
     "iopub.status.idle": "2025-07-21T17:15:05.158186Z",
     "shell.execute_reply": "2025-07-21T17:15:05.157626Z",
     "shell.execute_reply.started": "2025-07-21T17:14:58.022176Z"
    },
    "trusted": true
   },
   "outputs": [],
   "source": [
    "import torch\n",
    "import torch.nn as nn\n",
    "import torch.optim as optim\n",
    "import torchvision\n",
    "import torchvision.transforms as transforms\n",
    "from torch.utils.data import DataLoader\n",
    "import numpy as np\n",
    "import time\n",
    "import os\n",
    "from tqdm import tqdm"
   ]
  },
  {
   "cell_type": "code",
   "execution_count": 2,
   "metadata": {
    "execution": {
     "iopub.execute_input": "2025-07-21T17:15:05.159796Z",
     "iopub.status.busy": "2025-07-21T17:15:05.159499Z",
     "iopub.status.idle": "2025-07-21T17:15:05.225090Z",
     "shell.execute_reply": "2025-07-21T17:15:05.224269Z",
     "shell.execute_reply.started": "2025-07-21T17:15:05.159778Z"
    },
    "trusted": true
   },
   "outputs": [],
   "source": [
    "device = torch.device('cuda' if torch.cuda.is_available() else 'cpu')"
   ]
  },
  {
   "cell_type": "code",
   "execution_count": null,
   "metadata": {
    "execution": {
     "iopub.execute_input": "2025-07-21T17:15:05.226122Z",
     "iopub.status.busy": "2025-07-21T17:15:05.225876Z",
     "iopub.status.idle": "2025-07-21T17:15:08.951592Z",
     "shell.execute_reply": "2025-07-21T17:15:08.950767Z",
     "shell.execute_reply.started": "2025-07-21T17:15:05.226103Z"
    },
    "trusted": true
   },
   "outputs": [
    {
     "name": "stderr",
     "output_type": "stream",
     "text": [
      "100%|██████████| 9.91M/9.91M [00:00<00:00, 17.8MB/s]\n",
      "100%|██████████| 28.9k/28.9k [00:00<00:00, 481kB/s]\n",
      "100%|██████████| 1.65M/1.65M [00:00<00:00, 4.42MB/s]\n",
      "100%|██████████| 4.54k/4.54k [00:00<00:00, 6.91MB/s]\n"
     ]
    }
   ],
   "source": [
    "# Load and preprocess dataset\n",
    "transform = transforms.Compose([transforms.ToTensor(), transforms.Normalize((0.5,), (0.5,))])\n",
    "train_dataset = torchvision.datasets.MNIST(root='./data', train=True, download=True, transform=transform)\n",
    "test_dataset = torchvision.datasets.MNIST(root='./data', train=False, download=True, transform=transform)\n",
    "train_loader = DataLoader(train_dataset, batch_size=128, shuffle=True)\n",
    "test_loader = DataLoader(test_dataset, batch_size=128, shuffle=False)"
   ]
  },
  {
   "cell_type": "code",
   "execution_count": null,
   "metadata": {
    "execution": {
     "iopub.execute_input": "2025-07-21T17:17:17.819898Z",
     "iopub.status.busy": "2025-07-21T17:17:17.819654Z",
     "iopub.status.idle": "2025-07-21T17:17:17.833250Z",
     "shell.execute_reply": "2025-07-21T17:17:17.832661Z",
     "shell.execute_reply.started": "2025-07-21T17:17:17.819878Z"
    },
    "trusted": true
   },
   "outputs": [],
   "source": [
    "# teacher model (larger CNN)\n",
    "class TeacherModel(nn.Module):\n",
    "    def __init__(self):\n",
    "        super(TeacherModel, self).__init__()\n",
    "        self.features = nn.Sequential(\n",
    "            nn.Conv2d(1, 32, kernel_size=3, padding=1),\n",
    "            nn.ReLU(),\n",
    "            nn.MaxPool2d(2, 2),\n",
    "            nn.Conv2d(32, 64, kernel_size=3, padding=1),\n",
    "            nn.ReLU(),\n",
    "            nn.MaxPool2d(2, 2),\n",
    "            nn.Conv2d(64, 64, kernel_size=3, padding=1),\n",
    "            nn.ReLU()\n",
    "        )\n",
    "        self.classifier = nn.Sequential(\n",
    "            nn.Flatten(),\n",
    "            nn.Linear(64 * 7 * 7, 128),\n",
    "            nn.ReLU(),\n",
    "            nn.Linear(128, 10)\n",
    "        )\n",
    "\n",
    "    def forward(self, x):\n",
    "        x = self.features(x)\n",
    "        x = self.classifier(x)\n",
    "        return x"
   ]
  },
  {
   "cell_type": "code",
   "execution_count": null,
   "metadata": {
    "execution": {
     "iopub.execute_input": "2025-07-21T17:17:17.834008Z",
     "iopub.status.busy": "2025-07-21T17:17:17.833823Z",
     "iopub.status.idle": "2025-07-21T17:17:17.845793Z",
     "shell.execute_reply": "2025-07-21T17:17:17.845214Z",
     "shell.execute_reply.started": "2025-07-21T17:17:17.833992Z"
    },
    "trusted": true
   },
   "outputs": [],
   "source": [
    "# student model (smaller CNN)\n",
    "class StudentModel(nn.Module):\n",
    "    def __init__(self):\n",
    "        super(StudentModel, self).__init__()\n",
    "        self.features = nn.Sequential(\n",
    "            nn.Conv2d(1, 16, kernel_size=3, padding=1),\n",
    "            nn.ReLU(),\n",
    "            nn.MaxPool2d(2, 2)\n",
    "        )\n",
    "        self.classifier = nn.Sequential(\n",
    "            nn.Flatten(),\n",
    "            nn.Linear(16 * 14 * 14, 32),\n",
    "            nn.ReLU(),\n",
    "            nn.Linear(32, 10)\n",
    "        )\n",
    "\n",
    "    def forward(self, x):\n",
    "        x = self.features(x)\n",
    "        x = self.classifier(x)\n",
    "        return x"
   ]
  },
  {
   "cell_type": "code",
   "execution_count": 20,
   "metadata": {
    "execution": {
     "iopub.execute_input": "2025-07-21T17:17:17.846596Z",
     "iopub.status.busy": "2025-07-21T17:17:17.846359Z",
     "iopub.status.idle": "2025-07-21T17:17:17.861154Z",
     "shell.execute_reply": "2025-07-21T17:17:17.860469Z",
     "shell.execute_reply.started": "2025-07-21T17:17:17.846574Z"
    },
    "trusted": true
   },
   "outputs": [],
   "source": [
    "# Knowledge distillation loss function\n",
    "def distillation_loss(y_pred, y_true, teacher_logits, temperature=5.0, alpha=0.5):\n",
    "    soft_teacher = torch.softmax(teacher_logits / temperature, dim=1)\n",
    "    soft_student = torch.softmax(y_pred / temperature, dim=1)\n",
    "    \n",
    "    # Distillation loss (KL divergence)\n",
    "    distillation_ce = nn.KLDivLoss(reduction='batchmean')(torch.log(soft_student), soft_teacher) * (temperature ** 2)\n",
    "    \n",
    "    # Standard cross-entropy loss\n",
    "    standard_ce = nn.CrossEntropyLoss()(y_pred, y_true)\n",
    "    \n",
    "    return alpha * distillation_ce + (1 - alpha) * standard_ce"
   ]
  },
  {
   "cell_type": "code",
   "execution_count": 21,
   "metadata": {
    "execution": {
     "iopub.execute_input": "2025-07-21T17:17:17.862199Z",
     "iopub.status.busy": "2025-07-21T17:17:17.861937Z",
     "iopub.status.idle": "2025-07-21T17:17:17.875425Z",
     "shell.execute_reply": "2025-07-21T17:17:17.874907Z",
     "shell.execute_reply.started": "2025-07-21T17:17:17.862177Z"
    },
    "trusted": true
   },
   "outputs": [],
   "source": [
    "# Function to evaluate model\n",
    "def evaluate_model(model, data_loader, desc=\"Evaluating\"):\n",
    "    model.eval()\n",
    "    correct = 0\n",
    "    total = 0\n",
    "    with torch.no_grad():\n",
    "        for images, labels in tqdm(data_loader, desc=desc, leave=False):\n",
    "            images, labels = images.to(device), labels.to(device)\n",
    "            outputs = model(images)\n",
    "            _, predicted = torch.max(outputs, 1)\n",
    "            total += labels.size(0)\n",
    "            correct += (predicted == labels).sum().item()\n",
    "    return correct / total"
   ]
  },
  {
   "cell_type": "code",
   "execution_count": 22,
   "metadata": {
    "execution": {
     "iopub.execute_input": "2025-07-21T17:17:17.876276Z",
     "iopub.status.busy": "2025-07-21T17:17:17.876084Z",
     "iopub.status.idle": "2025-07-21T17:17:17.892111Z",
     "shell.execute_reply": "2025-07-21T17:17:17.891477Z",
     "shell.execute_reply.started": "2025-07-21T17:17:17.876262Z"
    },
    "trusted": true
   },
   "outputs": [],
   "source": [
    "# Train the teacher model \n",
    "teacher_model = TeacherModel().to(device)\n",
    "optimizer = optim.Adam(teacher_model.parameters())\n",
    "criterion = nn.CrossEntropyLoss()"
   ]
  },
  {
   "cell_type": "code",
   "execution_count": 23,
   "metadata": {
    "execution": {
     "iopub.execute_input": "2025-07-21T17:17:17.893167Z",
     "iopub.status.busy": "2025-07-21T17:17:17.892813Z",
     "iopub.status.idle": "2025-07-21T17:18:14.596730Z",
     "shell.execute_reply": "2025-07-21T17:18:14.596095Z",
     "shell.execute_reply.started": "2025-07-21T17:17:17.893144Z"
    },
    "trusted": true
   },
   "outputs": [
    {
     "name": "stdout",
     "output_type": "stream",
     "text": [
      "Training teacher model...\n"
     ]
    },
    {
     "name": "stderr",
     "output_type": "stream",
     "text": [
      "Epoch 1/5: 100%|██████████| 469/469 [00:11<00:00, 41.22it/s]\n"
     ]
    },
    {
     "name": "stdout",
     "output_type": "stream",
     "text": [
      "Epoch 1/5 - Loss: 0.1918, Accuracy: 0.9414\n"
     ]
    },
    {
     "name": "stderr",
     "output_type": "stream",
     "text": [
      "Epoch 2/5: 100%|██████████| 469/469 [00:11<00:00, 41.34it/s]\n"
     ]
    },
    {
     "name": "stdout",
     "output_type": "stream",
     "text": [
      "Epoch 2/5 - Loss: 0.0493, Accuracy: 0.9849\n"
     ]
    },
    {
     "name": "stderr",
     "output_type": "stream",
     "text": [
      "Epoch 3/5: 100%|██████████| 469/469 [00:11<00:00, 41.69it/s]\n"
     ]
    },
    {
     "name": "stdout",
     "output_type": "stream",
     "text": [
      "Epoch 3/5 - Loss: 0.0328, Accuracy: 0.9897\n"
     ]
    },
    {
     "name": "stderr",
     "output_type": "stream",
     "text": [
      "Epoch 4/5: 100%|██████████| 469/469 [00:11<00:00, 40.88it/s]\n"
     ]
    },
    {
     "name": "stdout",
     "output_type": "stream",
     "text": [
      "Epoch 4/5 - Loss: 0.0249, Accuracy: 0.9921\n"
     ]
    },
    {
     "name": "stderr",
     "output_type": "stream",
     "text": [
      "Epoch 5/5: 100%|██████████| 469/469 [00:11<00:00, 41.73it/s]"
     ]
    },
    {
     "name": "stdout",
     "output_type": "stream",
     "text": [
      "Epoch 5/5 - Loss: 0.0205, Accuracy: 0.9934\n"
     ]
    },
    {
     "name": "stderr",
     "output_type": "stream",
     "text": [
      "\n"
     ]
    }
   ],
   "source": [
    "print(\"Training teacher model...\")\n",
    "for epoch in range(5):\n",
    "    teacher_model.train()\n",
    "    running_loss = 0.0\n",
    "    correct = 0\n",
    "    total = 0\n",
    "    \n",
    "    pbar = tqdm(train_loader, desc=f'Epoch {epoch+1}/5')\n",
    "    for images, labels in pbar:\n",
    "        images, labels = images.to(device), labels.to(device)\n",
    "        \n",
    "        optimizer.zero_grad()\n",
    "        outputs = teacher_model(images)\n",
    "        loss = criterion(outputs, labels)\n",
    "        loss.backward()\n",
    "        optimizer.step()\n",
    "        \n",
    "        running_loss += loss.item()\n",
    "        _, predicted = torch.max(outputs.data, 1)\n",
    "        total += labels.size(0)\n",
    "        correct += (predicted == labels).sum().item()\n",
    "    \n",
    "    avg_loss = running_loss / len(train_loader)\n",
    "    epoch_acc = correct / total \n",
    "    \n",
    "    print(f\"Epoch {epoch+1}/5 - Loss: {avg_loss:.4f}, Accuracy: {epoch_acc:.4f}\")"
   ]
  },
  {
   "cell_type": "code",
   "execution_count": null,
   "metadata": {
    "execution": {
     "iopub.execute_input": "2025-07-21T17:18:14.597637Z",
     "iopub.status.busy": "2025-07-21T17:18:14.597372Z",
     "iopub.status.idle": "2025-07-21T17:18:16.438605Z",
     "shell.execute_reply": "2025-07-21T17:18:16.437841Z",
     "shell.execute_reply.started": "2025-07-21T17:18:14.597619Z"
    },
    "trusted": true
   },
   "outputs": [
    {
     "name": "stderr",
     "output_type": "stream",
     "text": [
      "                                                                \r"
     ]
    },
    {
     "name": "stdout",
     "output_type": "stream",
     "text": [
      "Teacher model test accuracy: 0.9915\n",
      "Teacher model size: 1.75 MB\n"
     ]
    },
    {
     "name": "stderr",
     "output_type": "stream",
     "text": [
      "                                                         "
     ]
    },
    {
     "name": "stdout",
     "output_type": "stream",
     "text": [
      "Teacher inference time (1000 samples): 0.1585 seconds\n"
     ]
    },
    {
     "name": "stderr",
     "output_type": "stream",
     "text": [
      "\r"
     ]
    }
   ],
   "source": [
    "teacher_acc = evaluate_model(teacher_model, test_loader, \"Testing teacher\")\n",
    "print(f\"Teacher model test accuracy: {teacher_acc:.4f}\")\n",
    "# Get teacher model size\n",
    "torch.save(teacher_model.state_dict(), 'teacher_model.pth')\n",
    "teacher_size = os.path.getsize('teacher_model.pth') / (1024 * 1024)  # Size in MB\n",
    "print(f\"Teacher model size: {teacher_size:.2f} MB\")\n",
    "\n",
    "# Measure teacher inference time \n",
    "start_time = time.time()\n",
    "teacher_model.eval()\n",
    "with torch.no_grad():\n",
    "    test_subset = DataLoader(test_dataset, batch_size=1000, shuffle=False)\n",
    "    for images, _ in tqdm(test_subset, desc=\"Teacher inference\", leave=False):\n",
    "        images = images.to(device)\n",
    "        teacher_model(images)\n",
    "        break  \n",
    "teacher_inference_time = time.time() - start_time\n",
    "print(f\"Teacher inference time (1000 samples): {teacher_inference_time:.4f} seconds\")"
   ]
  },
  {
   "cell_type": "code",
   "execution_count": null,
   "metadata": {
    "execution": {
     "iopub.execute_input": "2025-07-21T17:18:16.439668Z",
     "iopub.status.busy": "2025-07-21T17:18:16.439384Z",
     "iopub.status.idle": "2025-07-21T17:18:26.529253Z",
     "shell.execute_reply": "2025-07-21T17:18:26.528685Z",
     "shell.execute_reply.started": "2025-07-21T17:18:16.439645Z"
    },
    "trusted": true
   },
   "outputs": [
    {
     "name": "stdout",
     "output_type": "stream",
     "text": [
      "Computing teacher logits...\n"
     ]
    },
    {
     "name": "stderr",
     "output_type": "stream",
     "text": [
      "                                                                   \r"
     ]
    }
   ],
   "source": [
    "# Precompute teacher logits for training\n",
    "print(\"Computing teacher logits...\")\n",
    "teacher_logits = []\n",
    "teacher_model.eval()\n",
    "with torch.no_grad():\n",
    "    for images, _ in tqdm(train_loader, desc=\"Computing logits\", leave=False):\n",
    "        images = images.to(device)\n",
    "        logits = teacher_model(images)\n",
    "        teacher_logits.append(logits.cpu())\n",
    "teacher_logits = torch.cat(teacher_logits, dim=0)"
   ]
  },
  {
   "cell_type": "code",
   "execution_count": null,
   "metadata": {
    "execution": {
     "iopub.execute_input": "2025-07-21T17:18:26.530153Z",
     "iopub.status.busy": "2025-07-21T17:18:26.529948Z",
     "iopub.status.idle": "2025-07-21T17:18:26.536124Z",
     "shell.execute_reply": "2025-07-21T17:18:26.535641Z",
     "shell.execute_reply.started": "2025-07-21T17:18:26.530137Z"
    },
    "trusted": true
   },
   "outputs": [],
   "source": [
    "# Train the student model with knowledge distillation\n",
    "student_model = StudentModel().to(device)\n",
    "optimizer = optim.Adam(student_model.parameters())"
   ]
  },
  {
   "cell_type": "code",
   "execution_count": 27,
   "metadata": {
    "execution": {
     "iopub.execute_input": "2025-07-21T17:18:26.537179Z",
     "iopub.status.busy": "2025-07-21T17:18:26.536948Z",
     "iopub.status.idle": "2025-07-21T17:19:22.235396Z",
     "shell.execute_reply": "2025-07-21T17:19:22.234664Z",
     "shell.execute_reply.started": "2025-07-21T17:18:26.537155Z"
    },
    "trusted": true
   },
   "outputs": [
    {
     "name": "stdout",
     "output_type": "stream",
     "text": [
      "\n",
      "Training student model with knowledge distillation...\n"
     ]
    },
    {
     "name": "stderr",
     "output_type": "stream",
     "text": [
      "Student Epoch 1/5: 100%|██████████| 469/469 [00:10<00:00, 43.13it/s]\n"
     ]
    },
    {
     "name": "stdout",
     "output_type": "stream",
     "text": [
      "Student Epoch 1/5 - Loss: 16.8721, Accuracy: 0.6451\n"
     ]
    },
    {
     "name": "stderr",
     "output_type": "stream",
     "text": [
      "Student Epoch 2/5: 100%|██████████| 469/469 [00:10<00:00, 43.40it/s]\n"
     ]
    },
    {
     "name": "stdout",
     "output_type": "stream",
     "text": [
      "Student Epoch 2/5 - Loss: 16.7272, Accuracy: 0.8600\n"
     ]
    },
    {
     "name": "stderr",
     "output_type": "stream",
     "text": [
      "Student Epoch 3/5: 100%|██████████| 469/469 [00:11<00:00, 41.84it/s]\n"
     ]
    },
    {
     "name": "stdout",
     "output_type": "stream",
     "text": [
      "Student Epoch 3/5 - Loss: 16.7064, Accuracy: 0.9103\n"
     ]
    },
    {
     "name": "stderr",
     "output_type": "stream",
     "text": [
      "Student Epoch 4/5: 100%|██████████| 469/469 [00:11<00:00, 40.62it/s]\n"
     ]
    },
    {
     "name": "stdout",
     "output_type": "stream",
     "text": [
      "Student Epoch 4/5 - Loss: 16.6718, Accuracy: 0.9276\n"
     ]
    },
    {
     "name": "stderr",
     "output_type": "stream",
     "text": [
      "Student Epoch 5/5: 100%|██████████| 469/469 [00:11<00:00, 41.72it/s]"
     ]
    },
    {
     "name": "stdout",
     "output_type": "stream",
     "text": [
      "Student Epoch 5/5 - Loss: 16.6715, Accuracy: 0.9335\n"
     ]
    },
    {
     "name": "stderr",
     "output_type": "stream",
     "text": [
      "\n"
     ]
    }
   ],
   "source": [
    "# Train the student model with knowledge distillation\n",
    "print(\"\\nTraining student model with knowledge distillation...\")\n",
    "for epoch in range(5):\n",
    "    student_model.train()\n",
    "    running_loss = 0.0\n",
    "    correct = 0\n",
    "    total = 0\n",
    "    \n",
    "    pbar = tqdm(enumerate(train_loader), total=len(train_loader), desc=f'Student Epoch {epoch+1}/5')\n",
    "    for i, (images, labels) in pbar:\n",
    "        images, labels = images.to(device), labels.to(device)\n",
    "        batch_logits = teacher_logits[i * 128:(i + 1) * 128].to(device)\n",
    "        \n",
    "        optimizer.zero_grad()\n",
    "        outputs = student_model(images)\n",
    "        loss = distillation_loss(outputs, labels, batch_logits)\n",
    "        loss.backward()\n",
    "        optimizer.step()\n",
    "        \n",
    "        running_loss += loss.item()\n",
    "        _, predicted = torch.max(outputs.data, 1)\n",
    "        total += labels.size(0)\n",
    "        correct += (predicted == labels).sum().item()\n",
    "        \n",
    "    avg_loss = running_loss / len(train_loader)\n",
    "    epoch_acc = correct / total\n",
    "    print(f\"Student Epoch {epoch+1}/5 - Loss: {avg_loss:.4f}, Accuracy: {epoch_acc:.4f}\")"
   ]
  },
  {
   "cell_type": "code",
   "execution_count": 28,
   "metadata": {
    "execution": {
     "iopub.execute_input": "2025-07-21T17:19:22.236265Z",
     "iopub.status.busy": "2025-07-21T17:19:22.236036Z",
     "iopub.status.idle": "2025-07-21T17:19:23.941902Z",
     "shell.execute_reply": "2025-07-21T17:19:23.941255Z",
     "shell.execute_reply.started": "2025-07-21T17:19:22.236248Z"
    },
    "trusted": true
   },
   "outputs": [
    {
     "name": "stderr",
     "output_type": "stream",
     "text": [
      "                                                                "
     ]
    },
    {
     "name": "stdout",
     "output_type": "stream",
     "text": [
      "Student model test accuracy: 0.9484\n"
     ]
    },
    {
     "name": "stderr",
     "output_type": "stream",
     "text": [
      "\r"
     ]
    }
   ],
   "source": [
    "student_acc = evaluate_model(student_model, test_loader, \"Testing student\")\n",
    "print(f\"Student model test accuracy: {student_acc:.4f}\")"
   ]
  },
  {
   "cell_type": "code",
   "execution_count": 29,
   "metadata": {
    "execution": {
     "iopub.execute_input": "2025-07-21T17:19:23.942856Z",
     "iopub.status.busy": "2025-07-21T17:19:23.942627Z",
     "iopub.status.idle": "2025-07-21T17:19:23.949053Z",
     "shell.execute_reply": "2025-07-21T17:19:23.948573Z",
     "shell.execute_reply.started": "2025-07-21T17:19:23.942838Z"
    },
    "trusted": true
   },
   "outputs": [
    {
     "name": "stdout",
     "output_type": "stream",
     "text": [
      "Student model size: 0.39 MB\n"
     ]
    }
   ],
   "source": [
    "# Get student model size\n",
    "torch.save(student_model.state_dict(), 'student_model.pth')\n",
    "student_size = os.path.getsize('student_model.pth') / (1024 * 1024)  # Size in MB\n",
    "print(f\"Student model size: {student_size:.2f} MB\")"
   ]
  },
  {
   "cell_type": "code",
   "execution_count": null,
   "metadata": {
    "execution": {
     "iopub.execute_input": "2025-07-21T17:19:23.950495Z",
     "iopub.status.busy": "2025-07-21T17:19:23.949879Z",
     "iopub.status.idle": "2025-07-21T17:19:24.139410Z",
     "shell.execute_reply": "2025-07-21T17:19:24.138773Z",
     "shell.execute_reply.started": "2025-07-21T17:19:23.950477Z"
    },
    "trusted": true
   },
   "outputs": [
    {
     "name": "stderr",
     "output_type": "stream",
     "text": [
      "                                                         "
     ]
    },
    {
     "name": "stdout",
     "output_type": "stream",
     "text": [
      "Student inference time (1000 samples): 0.1694 seconds\n"
     ]
    },
    {
     "name": "stderr",
     "output_type": "stream",
     "text": [
      "\r"
     ]
    }
   ],
   "source": [
    "# Measure student inference time \n",
    "student_model.eval()\n",
    "with torch.no_grad():\n",
    "    test_subset = DataLoader(test_dataset, batch_size=1000, shuffle=False)\n",
    "    for images, _ in tqdm(test_subset, desc=\"Student inference\", leave=False):\n",
    "        images = images.to(device)\n",
    "        student_model(images)\n",
    "        break  \n",
    "student_inference_time = time.time() - start_time\n",
    "print(f\"Student inference time (1000 samples): {student_inference_time:.4f} seconds\")\n"
   ]
  },
  {
   "cell_type": "code",
   "execution_count": null,
   "metadata": {
    "execution": {
     "iopub.execute_input": "2025-07-21T17:19:24.140287Z",
     "iopub.status.busy": "2025-07-21T17:19:24.140061Z",
     "iopub.status.idle": "2025-07-21T17:19:24.144784Z",
     "shell.execute_reply": "2025-07-21T17:19:24.144252Z",
     "shell.execute_reply.started": "2025-07-21T17:19:24.140270Z"
    },
    "trusted": true
   },
   "outputs": [
    {
     "name": "stdout",
     "output_type": "stream",
     "text": [
      "\n",
      "Knowledge Distillation Benefits:\n",
      "- Teacher Accuracy: 0.9915, Student Accuracy: 0.9484\n",
      "- Model Size Reduction: 77.89%\n",
      "- Inference Time Reduction: -6.90%\n"
     ]
    }
   ],
   "source": [
    "\n",
    "print(\"\\nKnowledge Distillation Benefits:\")\n",
    "print(f\"- Teacher Accuracy: {teacher_acc:.4f}, Student Accuracy: {student_acc:.4f}\")\n",
    "print(f\"- Model Size Reduction: {(1 - student_size / teacher_size) * 100:.2f}%\")\n",
    "print(f\"- Inference Time Reduction: {(1 - student_inference_time / teacher_inference_time) * 100:.2f}%\")"
   ]
  },
  {
   "cell_type": "code",
   "execution_count": null,
   "metadata": {
    "trusted": true
   },
   "outputs": [],
   "source": []
  }
 ],
 "metadata": {
  "kaggle": {
   "accelerator": "gpu",
   "dataSources": [],
   "dockerImageVersionId": 31090,
   "isGpuEnabled": true,
   "isInternetEnabled": true,
   "language": "python",
   "sourceType": "notebook"
  },
  "kernelspec": {
   "display_name": "Python 3",
   "language": "python",
   "name": "python3"
  },
  "language_info": {
   "codemirror_mode": {
    "name": "ipython",
    "version": 3
   },
   "file_extension": ".py",
   "mimetype": "text/x-python",
   "name": "python",
   "nbconvert_exporter": "python",
   "pygments_lexer": "ipython3",
   "version": "3.11.13"
  }
 },
 "nbformat": 4,
 "nbformat_minor": 4
}
